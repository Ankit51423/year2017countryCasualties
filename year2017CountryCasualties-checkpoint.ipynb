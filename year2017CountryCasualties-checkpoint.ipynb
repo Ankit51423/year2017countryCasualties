{
 "cells": [
  {
   "cell_type": "markdown",
   "id": "c86495da",
   "metadata": {},
   "source": [
    "# PROBLEM STATEMENT "
   ]
  },
  {
   "cell_type": "markdown",
   "id": "b11d7f39",
   "metadata": {},
   "source": [
    "## Total Wounded People"
   ]
  },
  {
   "cell_type": "markdown",
   "id": "260eb422",
   "metadata": {},
   "source": [
    "It is an open-source database including information on terrorist attacks around the world in 2017. This dataset includes systematic data on domestic as well as international terrorist incidents that have occurred during this time period\n",
    "\n",
    "Problem Statement :\n",
    "Find and print the total number of wounded people.\n",
    "Print the count as integer value.\n",
    "\n",
    "Note : There can be missing values in \"Wounded\" column. You should try to print the values of \"Wounded\" column and observe.\n",
    "\n",
    "Output Format :\n",
    "Count"
   ]
  },
  {
   "cell_type": "code",
   "execution_count": 1,
   "id": "7e8deb28",
   "metadata": {},
   "outputs": [
    {
     "name": "stdout",
     "output_type": "stream",
     "text": [
      "1    2275\n",
      "2    2027\n",
      "3    2463\n",
      "4    2142\n",
      "5    2936\n",
      "6    2506\n",
      "7    2228\n",
      "8    2145\n",
      "9    1764\n",
      "10    2580\n",
      "11    2014\n",
      "12    1365\n"
     ]
    }
   ],
   "source": [
    "import csv\n",
    "with open('year2017.csv') as file_obj:\n",
    "    file_data=csv.DictReader(file_obj,skipinitialspace=True)\n",
    "    list=list(file_data)\n",
    "month_killed={}\n",
    "for row in list:\n",
    "    key=row['Month']\n",
    "    value=row['Killed']\n",
    "    if value!='' :\n",
    "        value=int(float(value))\n",
    "    else:\n",
    "        value=0\n",
    "    if key in month_killed:\n",
    "        month_killed[key]+=value\n",
    "    else:\n",
    "        month_killed[key]=value\n",
    "for key, value in month_killed.items():\n",
    "    print(key, '  ', value)\n"
   ]
  },
  {
   "cell_type": "markdown",
   "id": "25526aa4",
   "metadata": {},
   "source": [
    "# Total Wounded from India"
   ]
  },
  {
   "cell_type": "markdown",
   "id": "1c7b4bd8",
   "metadata": {},
   "source": [
    "It is an open-source database including information on terrorist attacks around the world in 2017. This dataset includes systematic data on domestic as well as international terrorist incidents that have occurred during this time period\n",
    "\n",
    "\n",
    "Problem Statement :\n",
    "Find and print the total number of wounded people who are from country \"India\".\n",
    "Print the count as integer value.\n",
    "\n",
    "Note : There can be missing values in \"Wounded\" column. You should try to print the values of \"Wounded\" column and observe.\n",
    "\n",
    "Output Format :\n",
    "Count"
   ]
  },
  {
   "cell_type": "code",
   "execution_count": null,
   "id": "1406acaa",
   "metadata": {},
   "outputs": [],
   "source": [
    "with open('year2017.csv') as file_obj:\n",
    "    file_data = csv.reader(file_obj)\n",
    "    file_list = list(file_data)\n",
    "    wounded_count = []  \n",
    "    for row in file_list[1:]:\n",
    "        country = row[3]\n",
    "        if country == 'India':\n",
    "            val = row[10]\n",
    "            if val != '':\n",
    "                wounded_count.append(int(float(val)))\n",
    "    print(sum(wounded_count))"
   ]
  },
  {
   "cell_type": "markdown",
   "id": "b983d215",
   "metadata": {},
   "source": [
    "# Casualties from Explosives"
   ]
  },
  {
   "cell_type": "markdown",
   "id": "a6fdec53",
   "metadata": {},
   "source": [
    "It is an open-source database including information on terrorist attacks around the world in 2017. This dataset includes systematic data on domestic as well as international terrorist incidents that have occurred during this time period\n",
    "\n",
    "Problem Statement :\n",
    "Find and print total number of casualties with “Explosives” Weapon_type.\n",
    "Print the count as integer value.\n",
    "\n",
    "Note : There can be missing values in \"casualties\" column and there are some initial spaces present in every value. You should try to print the values and observe.\n",
    "\n",
    "Output Format :\n",
    "Count"
   ]
  },
  {
   "cell_type": "code",
   "execution_count": 8,
   "id": "40ad7e61",
   "metadata": {},
   "outputs": [
    {
     "name": "stdout",
     "output_type": "stream",
     "text": [
      "29280\n"
     ]
    }
   ],
   "source": [
    "import csv\n",
    "\n",
    "total_casualties = 0\n",
    "\n",
    "with open('year2017.csv') as file_obj:\n",
    "    file_data = csv.DictReader(file_obj, skipinitialspace = True)\n",
    "\n",
    "    casualities = 0\n",
    "    for row in file_data:\n",
    "        if row['Weapon_type'] == 'Explosives':\n",
    "            if row['casualities'] != '':\n",
    "                casualities = casualities + float(row['casualities'])\n",
    "print(int(casualities))"
   ]
  },
  {
   "cell_type": "markdown",
   "id": "94907434",
   "metadata": {},
   "source": [
    "# Month vs Killed"
   ]
  },
  {
   "cell_type": "markdown",
   "id": "700ee781",
   "metadata": {},
   "source": [
    "Given file \"year2017.csv\"\n",
    "It is an open-source database including information on terrorist attacks around the world in 2017. This dataset includes systematic data on domestic as well as international terrorist incidents that have occurred during this time period\n",
    "\n",
    "Problem Statement :\n",
    "Find the total number people killed in each month.\n",
    "Print the month and count of killed people as integer value.\n",
    "\n",
    "\n",
    "Output Format :\n",
    "Month_1 Count_1\n",
    "\n",
    "Month_2 Count_2\n",
    "\n",
    "Month_3 Count_3\n",
    "\n",
    "and so on"
   ]
  },
  {
   "cell_type": "code",
   "execution_count": null,
   "id": "1b05a512",
   "metadata": {},
   "outputs": [],
   "source": [
    "import csv\n",
    "with open('year2017.csv') as file_obj:\n",
    "    file_data=csv.DictReader(file_obj,skipinitialspace=True)\n",
    "    list=list(file_data)\n",
    "month_killed={}\n",
    "for row in list:\n",
    "    key=row['Month']\n",
    "    value=row['Killed']\n",
    "    if value!='' :\n",
    "        value=int(float(value))\n",
    "    else:\n",
    "        value=0\n",
    "    if key in month_killed:\n",
    "        month_killed[key]+=value\n",
    "    else:\n",
    "        month_killed[key]=value\n",
    "for key, value in month_killed.items():\n",
    "    print(key, '  ', value)"
   ]
  },
  {
   "cell_type": "markdown",
   "id": "7ae9e9a1",
   "metadata": {},
   "source": [
    "# Country vs Casualties"
   ]
  },
  {
   "cell_type": "markdown",
   "id": "1c2b35d1",
   "metadata": {},
   "source": [
    "It is an open-source database including information on terrorist attacks around the world in 2017. This dataset includes systematic data on domestic as well as international terrorist incidents that have occurred during this time period\n",
    "\n",
    "\n",
    "Problem Statement :\n",
    "Find total number of casualties in each country.\n",
    "Print number of casualties as integer value.\n",
    "\n",
    "Note : For any missing value of casualty column, take 0 as value\n",
    "\n",
    "Output Format :\n",
    "\n",
    "country_1 casualties_1\n",
    "\n",
    "country_2 casualties_2\n",
    "\n",
    "country_3 casualties_3\n",
    "\n",
    "so on"
   ]
  },
  {
   "cell_type": "code",
   "execution_count": null,
   "id": "e1977783",
   "metadata": {},
   "outputs": [],
   "source": [
    "import csv\n",
    "\n",
    "with open('year2017.csv') as file_obj:\n",
    "    file_data = csv.DictReader(file_obj,skipinitialspace=True)\n",
    "    file_list = list(file_data)\n",
    "\n",
    "country_casualties = {}\n",
    "for row in file_list:\n",
    "    key = row['Country']\n",
    "    value = row['casualities']  # Corrected column name from 'killed' to 'Killed'\n",
    "\n",
    "    if value != '':\n",
    "        value = int(float(value))\n",
    "    else:\n",
    "        value = 0\n",
    "\n",
    "    if key in country_casualties:\n",
    "        country_casualties[key] += value\n",
    "    else:\n",
    "        country_casualties[key] = value\n",
    "\n",
    "# Print the required output in the given format\n",
    "for country, casualties in country_casualties.items():\n",
    "    print(country,casualties)"
   ]
  },
  {
   "cell_type": "code",
   "execution_count": null,
   "id": "67d52bd9",
   "metadata": {},
   "outputs": [],
   "source": []
  }
 ],
 "metadata": {
  "kernelspec": {
   "display_name": "Python 3 (ipykernel)",
   "language": "python",
   "name": "python3"
  },
  "language_info": {
   "codemirror_mode": {
    "name": "ipython",
    "version": 3
   },
   "file_extension": ".py",
   "mimetype": "text/x-python",
   "name": "python",
   "nbconvert_exporter": "python",
   "pygments_lexer": "ipython3",
   "version": "3.9.12"
  }
 },
 "nbformat": 4,
 "nbformat_minor": 5
}
